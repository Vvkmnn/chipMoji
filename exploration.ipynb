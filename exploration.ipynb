{
 "cells": [
  {
   "cell_type": "markdown",
   "metadata": {},
   "source": [
    "Leveraging [OpenAI's Neuron Sentiment Model](https://blog.openai.com/unsupervised-sentiment-neuron/)"
   ]
  },
  {
   "cell_type": "code",
   "execution_count": 13,
   "metadata": {
    "collapsed": false
   },
   "outputs": [],
   "source": [
    "%load_ext autoreload\n",
    "%autoreload 2"
   ]
  },
  {
   "cell_type": "code",
   "execution_count": 1,
   "metadata": {
    "collapsed": true
   },
   "outputs": [],
   "source": [
    "from encoder import Model"
   ]
  },
  {
   "cell_type": "code",
   "execution_count": 2,
   "metadata": {
    "collapsed": false
   },
   "outputs": [
    {
     "name": "stdout",
     "output_type": "stream",
     "text": [
      "5.312 seconds to transform 1 examples\n"
     ]
    }
   ],
   "source": [
    "model = Model()\n",
    "\n",
    "text = ['fuck!'] \n",
    "text_features = model.transform(text)"
   ]
  },
  {
   "cell_type": "code",
   "execution_count": 5,
   "metadata": {
    "collapsed": false
   },
   "outputs": [
    {
     "data": {
      "text/plain": [
       "array([[ 0.01649166, -0.3539786 ,  0.03778331, ...,  0.37991029,\n",
       "         0.08462585, -0.04763183]], dtype=float32)"
      ]
     },
     "execution_count": 5,
     "metadata": {},
     "output_type": "execute_result"
    }
   ],
   "source": [
    "text_features"
   ]
  },
  {
   "cell_type": "code",
   "execution_count": 8,
   "metadata": {
    "collapsed": false
   },
   "outputs": [
    {
     "data": {
      "text/plain": [
       "(1, 4096)"
      ]
     },
     "execution_count": 8,
     "metadata": {},
     "output_type": "execute_result"
    }
   ],
   "source": [
    "text_features.shape"
   ]
  },
  {
   "cell_type": "code",
   "execution_count": 6,
   "metadata": {
    "collapsed": true
   },
   "outputs": [],
   "source": [
    "sentiment = text_features[:, 2388]"
   ]
  },
  {
   "cell_type": "code",
   "execution_count": 7,
   "metadata": {
    "collapsed": false
   },
   "outputs": [
    {
     "data": {
      "text/plain": [
       "array([-0.01751482], dtype=float32)"
      ]
     },
     "execution_count": 7,
     "metadata": {},
     "output_type": "execute_result"
    }
   ],
   "source": [
    "sentiment"
   ]
  },
  {
   "cell_type": "code",
   "execution_count": 12,
   "metadata": {
    "collapsed": false
   },
   "outputs": [
    {
     "name": "stdout",
     "output_type": "stream",
     "text": [
      "11.488 seconds to transform 4 examples\n"
     ]
    }
   ],
   "source": [
    "text_features = model.transform(\"hate\")"
   ]
  },
  {
   "cell_type": "code",
   "execution_count": 13,
   "metadata": {
    "collapsed": false
   },
   "outputs": [
    {
     "data": {
      "text/plain": [
       "array([ 0.07027127,  0.08544399,  0.0665914 ,  0.10796221], dtype=float32)"
      ]
     },
     "execution_count": 13,
     "metadata": {},
     "output_type": "execute_result"
    }
   ],
   "source": [
    "text_features[:, 2388]"
   ]
  },
  {
   "cell_type": "code",
   "execution_count": null,
   "metadata": {
    "collapsed": true
   },
   "outputs": [],
   "source": []
  },
  {
   "cell_type": "code",
   "execution_count": 3,
   "metadata": {
    "collapsed": true
   },
   "outputs": [],
   "source": [
    "import requests"
   ]
  },
  {
   "cell_type": "code",
   "execution_count": 4,
   "metadata": {
    "collapsed": false
   },
   "outputs": [
    {
     "name": "stdout",
     "output_type": "stream",
     "text": [
      "{\"auth\":\"mOZ6y5nvHMsqf1QChCUVZ9rrDaFnALKQ3j5bctxubo4\",\"status\":\"success\"}\n"
     ]
    }
   ],
   "source": [
    "url = \"https://api.crimsonhexagon.com/api/authenticate\"\n",
    "\n",
    "querystring = {\n",
    "  \"username\":\"vivek.menon@jptbwa.com\",\n",
    "  \"noExpiration\":\"true\",\n",
    "  \"password\":\"vivekmenon1\"\n",
    "}\n",
    "\n",
    "response = requests.request(\"GET\", url, params=querystring)\n",
    "\n",
    "print(response.text)"
   ]
  },
  {
   "cell_type": "code",
   "execution_count": 13,
   "metadata": {
    "collapsed": false
   },
   "outputs": [
    {
     "name": "stdout",
     "output_type": "stream",
     "text": [
      "{\"results\":[{\"startDate\":\"2017-06-01T00:00:00\",\"endDate\":\"2017-06-02T00:00:00\",\"creationDate\":\"2017-06-14T20:53:30\",\"numberOfDocuments\":424,\"numberOfRelevantDocuments\":0,\"categories\":[]},{\"startDate\":\"2017-06-02T00:00:00\",\"endDate\":\"2017-06-03T00:00:00\",\"creationDate\":\"2017-06-14T20:53:29\",\"numberOfDocuments\":321,\"numberOfRelevantDocuments\":0,\"categories\":[]},{\"startDate\":\"2017-06-03T00:00:00\",\"endDate\":\"2017-06-04T00:00:00\",\"creationDate\":\"2017-06-14T20:53:29\",\"numberOfDocuments\":299,\"numberOfRelevantDocuments\":0,\"categories\":[]},{\"startDate\":\"2017-06-04T00:00:00\",\"endDate\":\"2017-06-05T00:00:00\",\"creationDate\":\"2017-06-14T20:53:27\",\"numberOfDocuments\":355,\"numberOfRelevantDocuments\":0,\"categories\":[]},{\"startDate\":\"2017-06-05T00:00:00\",\"endDate\":\"2017-06-06T00:00:00\",\"creationDate\":\"2017-06-14T20:53:25\",\"numberOfDocuments\":344,\"numberOfRelevantDocuments\":0,\"categories\":[]},{\"startDate\":\"2017-06-06T00:00:00\",\"endDate\":\"2017-06-07T00:00:00\",\"creationDate\":\"2017-06-14T20:53:28\",\"numberOfDocuments\":365,\"numberOfRelevantDocuments\":0,\"categories\":[]},{\"startDate\":\"2017-06-07T00:00:00\",\"endDate\":\"2017-06-08T00:00:00\",\"creationDate\":\"2017-06-14T20:53:28\",\"numberOfDocuments\":389,\"numberOfRelevantDocuments\":0,\"categories\":[]},{\"startDate\":\"2017-06-08T00:00:00\",\"endDate\":\"2017-06-09T00:00:00\",\"creationDate\":\"2017-06-14T20:53:26\",\"numberOfDocuments\":417,\"numberOfRelevantDocuments\":0,\"categories\":[]},{\"startDate\":\"2017-06-09T00:00:00\",\"endDate\":\"2017-06-10T00:00:00\",\"creationDate\":\"2017-06-14T20:53:26\",\"numberOfDocuments\":323,\"numberOfRelevantDocuments\":0,\"categories\":[]},{\"startDate\":\"2017-06-10T00:00:00\",\"endDate\":\"2017-06-11T00:00:00\",\"creationDate\":\"2017-06-14T20:53:26\",\"numberOfDocuments\":307,\"numberOfRelevantDocuments\":0,\"categories\":[]},{\"startDate\":\"2017-06-11T00:00:00\",\"endDate\":\"2017-06-12T00:00:00\",\"creationDate\":\"2017-06-14T20:53:26\",\"numberOfDocuments\":329,\"numberOfRelevantDocuments\":0,\"categories\":[]},{\"startDate\":\"2017-06-12T00:00:00\",\"endDate\":\"2017-06-13T00:00:00\",\"creationDate\":\"2017-06-14T20:53:24\",\"numberOfDocuments\":337,\"numberOfRelevantDocuments\":0,\"categories\":[]},{\"startDate\":\"2017-06-13T00:00:00\",\"endDate\":\"2017-06-14T00:00:00\",\"creationDate\":\"2017-06-14T20:53:42\",\"numberOfDocuments\":527,\"numberOfRelevantDocuments\":0,\"categories\":[]}],\"status\":\"success\"}\n"
     ]
    }
   ],
   "source": [
    "\n",
    "querystring = {\n",
    "  \"auth\":\"mOZ6y5nvHMsqf1QChCUVZ9rrDaFnALKQ3j5bctxubo4\",\n",
    "    \"id\": \"5061172411\",\n",
    "  \"start\":\"2017-06-01\",\n",
    "  \"end\":\"2017-06-14\"\n",
    "}\n",
    "\n",
    "response = requests.request(\"GET\", \"https://api.crimsonhexagon.com/api/monitor/results\", params=querystring)\n",
    "\n",
    "print(response.text)"
   ]
  },
  {
   "cell_type": "code",
   "execution_count": 14,
   "metadata": {
    "collapsed": false
   },
   "outputs": [
    {
     "data": {
      "text/plain": [
       "[{'categories': [],\n",
       "  'creationDate': '2017-06-14T20:53:30',\n",
       "  'endDate': '2017-06-02T00:00:00',\n",
       "  'numberOfDocuments': 424,\n",
       "  'numberOfRelevantDocuments': 0,\n",
       "  'startDate': '2017-06-01T00:00:00'},\n",
       " {'categories': [],\n",
       "  'creationDate': '2017-06-14T20:53:29',\n",
       "  'endDate': '2017-06-03T00:00:00',\n",
       "  'numberOfDocuments': 321,\n",
       "  'numberOfRelevantDocuments': 0,\n",
       "  'startDate': '2017-06-02T00:00:00'},\n",
       " {'categories': [],\n",
       "  'creationDate': '2017-06-14T20:53:29',\n",
       "  'endDate': '2017-06-04T00:00:00',\n",
       "  'numberOfDocuments': 299,\n",
       "  'numberOfRelevantDocuments': 0,\n",
       "  'startDate': '2017-06-03T00:00:00'},\n",
       " {'categories': [],\n",
       "  'creationDate': '2017-06-14T20:53:27',\n",
       "  'endDate': '2017-06-05T00:00:00',\n",
       "  'numberOfDocuments': 355,\n",
       "  'numberOfRelevantDocuments': 0,\n",
       "  'startDate': '2017-06-04T00:00:00'},\n",
       " {'categories': [],\n",
       "  'creationDate': '2017-06-14T20:53:25',\n",
       "  'endDate': '2017-06-06T00:00:00',\n",
       "  'numberOfDocuments': 344,\n",
       "  'numberOfRelevantDocuments': 0,\n",
       "  'startDate': '2017-06-05T00:00:00'},\n",
       " {'categories': [],\n",
       "  'creationDate': '2017-06-14T20:53:28',\n",
       "  'endDate': '2017-06-07T00:00:00',\n",
       "  'numberOfDocuments': 365,\n",
       "  'numberOfRelevantDocuments': 0,\n",
       "  'startDate': '2017-06-06T00:00:00'},\n",
       " {'categories': [],\n",
       "  'creationDate': '2017-06-14T20:53:28',\n",
       "  'endDate': '2017-06-08T00:00:00',\n",
       "  'numberOfDocuments': 389,\n",
       "  'numberOfRelevantDocuments': 0,\n",
       "  'startDate': '2017-06-07T00:00:00'},\n",
       " {'categories': [],\n",
       "  'creationDate': '2017-06-14T20:53:26',\n",
       "  'endDate': '2017-06-09T00:00:00',\n",
       "  'numberOfDocuments': 417,\n",
       "  'numberOfRelevantDocuments': 0,\n",
       "  'startDate': '2017-06-08T00:00:00'},\n",
       " {'categories': [],\n",
       "  'creationDate': '2017-06-14T20:53:26',\n",
       "  'endDate': '2017-06-10T00:00:00',\n",
       "  'numberOfDocuments': 323,\n",
       "  'numberOfRelevantDocuments': 0,\n",
       "  'startDate': '2017-06-09T00:00:00'},\n",
       " {'categories': [],\n",
       "  'creationDate': '2017-06-14T20:53:26',\n",
       "  'endDate': '2017-06-11T00:00:00',\n",
       "  'numberOfDocuments': 307,\n",
       "  'numberOfRelevantDocuments': 0,\n",
       "  'startDate': '2017-06-10T00:00:00'},\n",
       " {'categories': [],\n",
       "  'creationDate': '2017-06-14T20:53:26',\n",
       "  'endDate': '2017-06-12T00:00:00',\n",
       "  'numberOfDocuments': 329,\n",
       "  'numberOfRelevantDocuments': 0,\n",
       "  'startDate': '2017-06-11T00:00:00'},\n",
       " {'categories': [],\n",
       "  'creationDate': '2017-06-14T20:53:24',\n",
       "  'endDate': '2017-06-13T00:00:00',\n",
       "  'numberOfDocuments': 337,\n",
       "  'numberOfRelevantDocuments': 0,\n",
       "  'startDate': '2017-06-12T00:00:00'},\n",
       " {'categories': [],\n",
       "  'creationDate': '2017-06-14T20:53:42',\n",
       "  'endDate': '2017-06-14T00:00:00',\n",
       "  'numberOfDocuments': 527,\n",
       "  'numberOfRelevantDocuments': 0,\n",
       "  'startDate': '2017-06-13T00:00:00'}]"
      ]
     },
     "execution_count": 14,
     "metadata": {},
     "output_type": "execute_result"
    }
   ],
   "source": [
    "response.json()['results']"
   ]
  },
  {
   "cell_type": "code",
   "execution_count": null,
   "metadata": {
    "collapsed": true
   },
   "outputs": [],
   "source": []
  }
 ],
 "metadata": {
  "kernelspec": {
   "display_name": "Python [default]",
   "language": "python",
   "name": "python3"
  },
  "language_info": {
   "codemirror_mode": {
    "name": "ipython",
    "version": 3
   },
   "file_extension": ".py",
   "mimetype": "text/x-python",
   "name": "python",
   "nbconvert_exporter": "python",
   "pygments_lexer": "ipython3",
   "version": "3.5.2"
  }
 },
 "nbformat": 4,
 "nbformat_minor": 2
}
